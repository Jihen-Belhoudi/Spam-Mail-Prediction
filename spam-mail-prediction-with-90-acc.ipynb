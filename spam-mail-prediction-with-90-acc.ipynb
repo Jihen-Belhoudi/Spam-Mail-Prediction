{
 "cells": [
  {
   "cell_type": "code",
   "execution_count": 1,
   "id": "78af3bd5",
   "metadata": {
    "_cell_guid": "b1076dfc-b9ad-4769-8c92-a6c4dae69d19",
    "_uuid": "8f2839f25d086af736a60e9eeb907d3b93b6e0e5",
    "execution": {
     "iopub.execute_input": "2021-11-03T17:21:11.173949Z",
     "iopub.status.busy": "2021-11-03T17:21:11.173008Z",
     "iopub.status.idle": "2021-11-03T17:21:11.189919Z",
     "shell.execute_reply": "2021-11-03T17:21:11.190791Z",
     "shell.execute_reply.started": "2021-11-03T16:25:34.429504Z"
    },
    "papermill": {
     "duration": 0.049621,
     "end_time": "2021-11-03T17:21:11.191196",
     "exception": false,
     "start_time": "2021-11-03T17:21:11.141575",
     "status": "completed"
    },
    "tags": []
   },
   "outputs": [
    {
     "name": "stdout",
     "output_type": "stream",
     "text": [
      "/kaggle/input/spam-mails-dataset/spam_ham_dataset.csv\n"
     ]
    }
   ],
   "source": [
    "# This Python 3 environment comes with many helpful analytics libraries installed\n",
    "# It is defined by the kaggle/python Docker image: https://github.com/kaggle/docker-python\n",
    "# For example, here's several helpful packages to load\n",
    "\n",
    "import numpy as np # linear algebra\n",
    "import pandas as pd # data processing, CSV file I/O (e.g. pd.read_csv)\n",
    "\n",
    "# Input data files are available in the read-only \"../input/\" directory\n",
    "# For example, running this (by clicking run or pressing Shift+Enter) will list all files under the input directory\n",
    "\n",
    "import os\n",
    "for dirname, _, filenames in os.walk('/kaggle/input'):\n",
    "    for filename in filenames:\n",
    "        print(os.path.join(dirname, filename))\n",
    "\n",
    "# You can write up to 20GB to the current directory (/kaggle/working/) that gets preserved as output when you create a version using \"Save & Run All\" \n",
    "# You can also write temporary files to /kaggle/temp/, but they won't be saved outside of the current session"
   ]
  },
  {
   "cell_type": "markdown",
   "id": "4d2c66fc",
   "metadata": {
    "papermill": {
     "duration": 0.019916,
     "end_time": "2021-11-03T17:21:11.232944",
     "exception": false,
     "start_time": "2021-11-03T17:21:11.213028",
     "status": "completed"
    },
    "tags": []
   },
   "source": [
    "# ****Importing Libraries and reading data****"
   ]
  },
  {
   "cell_type": "code",
   "execution_count": 2,
   "id": "c94ba793",
   "metadata": {
    "execution": {
     "iopub.execute_input": "2021-11-03T17:21:11.278860Z",
     "iopub.status.busy": "2021-11-03T17:21:11.277997Z",
     "iopub.status.idle": "2021-11-03T17:21:12.346231Z",
     "shell.execute_reply": "2021-11-03T17:21:12.345539Z",
     "shell.execute_reply.started": "2021-11-03T17:10:56.246184Z"
    },
    "papermill": {
     "duration": 1.09328,
     "end_time": "2021-11-03T17:21:12.346381",
     "exception": false,
     "start_time": "2021-11-03T17:21:11.253101",
     "status": "completed"
    },
    "tags": []
   },
   "outputs": [],
   "source": [
    "import numpy as np\n",
    "import pandas as pd\n",
    "from sklearn.model_selection import train_test_split\n",
    "from sklearn.feature_extraction.text import TfidfVectorizer\n",
    "from sklearn.linear_model import LogisticRegression\n",
    "from sklearn.metrics import accuracy_score\n",
    "import matplotlib.pyplot as plt\n"
   ]
  },
  {
   "cell_type": "code",
   "execution_count": 3,
   "id": "d10e5cc2",
   "metadata": {
    "execution": {
     "iopub.execute_input": "2021-11-03T17:21:12.390325Z",
     "iopub.status.busy": "2021-11-03T17:21:12.389568Z",
     "iopub.status.idle": "2021-11-03T17:21:12.569026Z",
     "shell.execute_reply": "2021-11-03T17:21:12.569550Z",
     "shell.execute_reply.started": "2021-11-03T17:07:26.887341Z"
    },
    "papermill": {
     "duration": 0.202947,
     "end_time": "2021-11-03T17:21:12.569719",
     "exception": false,
     "start_time": "2021-11-03T17:21:12.366772",
     "status": "completed"
    },
    "tags": []
   },
   "outputs": [
    {
     "data": {
      "text/html": [
       "<div>\n",
       "<style scoped>\n",
       "    .dataframe tbody tr th:only-of-type {\n",
       "        vertical-align: middle;\n",
       "    }\n",
       "\n",
       "    .dataframe tbody tr th {\n",
       "        vertical-align: top;\n",
       "    }\n",
       "\n",
       "    .dataframe thead th {\n",
       "        text-align: right;\n",
       "    }\n",
       "</style>\n",
       "<table border=\"1\" class=\"dataframe\">\n",
       "  <thead>\n",
       "    <tr style=\"text-align: right;\">\n",
       "      <th></th>\n",
       "      <th>Unnamed: 0</th>\n",
       "      <th>label</th>\n",
       "      <th>text</th>\n",
       "      <th>label_num</th>\n",
       "    </tr>\n",
       "  </thead>\n",
       "  <tbody>\n",
       "    <tr>\n",
       "      <th>0</th>\n",
       "      <td>605</td>\n",
       "      <td>ham</td>\n",
       "      <td>Subject: enron methanol ; meter # : 988291\\r\\n...</td>\n",
       "      <td>0</td>\n",
       "    </tr>\n",
       "    <tr>\n",
       "      <th>1</th>\n",
       "      <td>2349</td>\n",
       "      <td>ham</td>\n",
       "      <td>Subject: hpl nom for january 9 , 2001\\r\\n( see...</td>\n",
       "      <td>0</td>\n",
       "    </tr>\n",
       "    <tr>\n",
       "      <th>2</th>\n",
       "      <td>3624</td>\n",
       "      <td>ham</td>\n",
       "      <td>Subject: neon retreat\\r\\nho ho ho , we ' re ar...</td>\n",
       "      <td>0</td>\n",
       "    </tr>\n",
       "    <tr>\n",
       "      <th>3</th>\n",
       "      <td>4685</td>\n",
       "      <td>spam</td>\n",
       "      <td>Subject: photoshop , windows , office . cheap ...</td>\n",
       "      <td>1</td>\n",
       "    </tr>\n",
       "    <tr>\n",
       "      <th>4</th>\n",
       "      <td>2030</td>\n",
       "      <td>ham</td>\n",
       "      <td>Subject: re : indian springs\\r\\nthis deal is t...</td>\n",
       "      <td>0</td>\n",
       "    </tr>\n",
       "    <tr>\n",
       "      <th>...</th>\n",
       "      <td>...</td>\n",
       "      <td>...</td>\n",
       "      <td>...</td>\n",
       "      <td>...</td>\n",
       "    </tr>\n",
       "    <tr>\n",
       "      <th>5166</th>\n",
       "      <td>1518</td>\n",
       "      <td>ham</td>\n",
       "      <td>Subject: put the 10 on the ft\\r\\nthe transport...</td>\n",
       "      <td>0</td>\n",
       "    </tr>\n",
       "    <tr>\n",
       "      <th>5167</th>\n",
       "      <td>404</td>\n",
       "      <td>ham</td>\n",
       "      <td>Subject: 3 / 4 / 2000 and following noms\\r\\nhp...</td>\n",
       "      <td>0</td>\n",
       "    </tr>\n",
       "    <tr>\n",
       "      <th>5168</th>\n",
       "      <td>2933</td>\n",
       "      <td>ham</td>\n",
       "      <td>Subject: calpine daily gas nomination\\r\\n&gt;\\r\\n...</td>\n",
       "      <td>0</td>\n",
       "    </tr>\n",
       "    <tr>\n",
       "      <th>5169</th>\n",
       "      <td>1409</td>\n",
       "      <td>ham</td>\n",
       "      <td>Subject: industrial worksheets for august 2000...</td>\n",
       "      <td>0</td>\n",
       "    </tr>\n",
       "    <tr>\n",
       "      <th>5170</th>\n",
       "      <td>4807</td>\n",
       "      <td>spam</td>\n",
       "      <td>Subject: important online banking alert\\r\\ndea...</td>\n",
       "      <td>1</td>\n",
       "    </tr>\n",
       "  </tbody>\n",
       "</table>\n",
       "<p>5171 rows × 4 columns</p>\n",
       "</div>"
      ],
      "text/plain": [
       "      Unnamed: 0 label                                               text  \\\n",
       "0            605   ham  Subject: enron methanol ; meter # : 988291\\r\\n...   \n",
       "1           2349   ham  Subject: hpl nom for january 9 , 2001\\r\\n( see...   \n",
       "2           3624   ham  Subject: neon retreat\\r\\nho ho ho , we ' re ar...   \n",
       "3           4685  spam  Subject: photoshop , windows , office . cheap ...   \n",
       "4           2030   ham  Subject: re : indian springs\\r\\nthis deal is t...   \n",
       "...          ...   ...                                                ...   \n",
       "5166        1518   ham  Subject: put the 10 on the ft\\r\\nthe transport...   \n",
       "5167         404   ham  Subject: 3 / 4 / 2000 and following noms\\r\\nhp...   \n",
       "5168        2933   ham  Subject: calpine daily gas nomination\\r\\n>\\r\\n...   \n",
       "5169        1409   ham  Subject: industrial worksheets for august 2000...   \n",
       "5170        4807  spam  Subject: important online banking alert\\r\\ndea...   \n",
       "\n",
       "      label_num  \n",
       "0             0  \n",
       "1             0  \n",
       "2             0  \n",
       "3             1  \n",
       "4             0  \n",
       "...         ...  \n",
       "5166          0  \n",
       "5167          0  \n",
       "5168          0  \n",
       "5169          0  \n",
       "5170          1  \n",
       "\n",
       "[5171 rows x 4 columns]"
      ]
     },
     "execution_count": 3,
     "metadata": {},
     "output_type": "execute_result"
    }
   ],
   "source": [
    "data = pd.read_csv('/kaggle/input/spam-mails-dataset/spam_ham_dataset.csv')\n",
    "data"
   ]
  },
  {
   "cell_type": "code",
   "execution_count": 4,
   "id": "91675c34",
   "metadata": {
    "execution": {
     "iopub.execute_input": "2021-11-03T17:21:12.615316Z",
     "iopub.status.busy": "2021-11-03T17:21:12.614505Z",
     "iopub.status.idle": "2021-11-03T17:21:12.626005Z",
     "shell.execute_reply": "2021-11-03T17:21:12.626596Z",
     "shell.execute_reply.started": "2021-11-03T17:08:07.815445Z"
    },
    "papermill": {
     "duration": 0.035705,
     "end_time": "2021-11-03T17:21:12.626765",
     "exception": false,
     "start_time": "2021-11-03T17:21:12.591060",
     "status": "completed"
    },
    "tags": []
   },
   "outputs": [
    {
     "name": "stdout",
     "output_type": "stream",
     "text": [
      "\n",
      "------------------------------\n",
      "shape of data: (5171, 4)\n",
      "\n",
      "------------------------------\n",
      "\n",
      "no dimensions of data: 2\n",
      "\n",
      "------------------------------\n",
      "\n",
      "size of data: 20684\n",
      "\n",
      "------------------------------\n",
      "\n",
      "Sum fo all null values:\n",
      " Unnamed: 0    0\n",
      "label         0\n",
      "text          0\n",
      "label_num     0\n",
      "dtype: int64\n",
      "\n",
      "------------------------------\n"
     ]
    }
   ],
   "source": [
    "print(\"\\n\"+'-'* 30)\n",
    "print(\"shape of data:\",data.shape) \n",
    "print(\"\\n\"+'-'* 30)\n",
    "print(\"\\nno dimensions of data:\",data.ndim)\n",
    "print(\"\\n\"+'-'* 30)\n",
    "print(\"\\nsize of data:\",data.size)\n",
    "print(\"\\n\"+'-'*30)\n",
    "print(\"\\nSum fo all null values:\\n\",data.isnull().sum())\n",
    "print(\"\\n\"+'-'*30)"
   ]
  },
  {
   "cell_type": "code",
   "execution_count": 5,
   "id": "016a2985",
   "metadata": {
    "execution": {
     "iopub.execute_input": "2021-11-03T17:21:12.672679Z",
     "iopub.status.busy": "2021-11-03T17:21:12.671986Z",
     "iopub.status.idle": "2021-11-03T17:21:12.689235Z",
     "shell.execute_reply": "2021-11-03T17:21:12.689825Z",
     "shell.execute_reply.started": "2021-11-03T17:08:37.206113Z"
    },
    "papermill": {
     "duration": 0.041939,
     "end_time": "2021-11-03T17:21:12.690011",
     "exception": false,
     "start_time": "2021-11-03T17:21:12.648072",
     "status": "completed"
    },
    "tags": []
   },
   "outputs": [
    {
     "data": {
      "text/plain": [
       "'Top 5 rows :'"
      ]
     },
     "metadata": {},
     "output_type": "display_data"
    },
    {
     "data": {
      "text/html": [
       "<div>\n",
       "<style scoped>\n",
       "    .dataframe tbody tr th:only-of-type {\n",
       "        vertical-align: middle;\n",
       "    }\n",
       "\n",
       "    .dataframe tbody tr th {\n",
       "        vertical-align: top;\n",
       "    }\n",
       "\n",
       "    .dataframe thead th {\n",
       "        text-align: right;\n",
       "    }\n",
       "</style>\n",
       "<table border=\"1\" class=\"dataframe\">\n",
       "  <thead>\n",
       "    <tr style=\"text-align: right;\">\n",
       "      <th></th>\n",
       "      <th>Unnamed: 0</th>\n",
       "      <th>label</th>\n",
       "      <th>text</th>\n",
       "      <th>label_num</th>\n",
       "    </tr>\n",
       "  </thead>\n",
       "  <tbody>\n",
       "    <tr>\n",
       "      <th>0</th>\n",
       "      <td>605</td>\n",
       "      <td>ham</td>\n",
       "      <td>Subject: enron methanol ; meter # : 988291\\r\\n...</td>\n",
       "      <td>0</td>\n",
       "    </tr>\n",
       "    <tr>\n",
       "      <th>1</th>\n",
       "      <td>2349</td>\n",
       "      <td>ham</td>\n",
       "      <td>Subject: hpl nom for january 9 , 2001\\r\\n( see...</td>\n",
       "      <td>0</td>\n",
       "    </tr>\n",
       "    <tr>\n",
       "      <th>2</th>\n",
       "      <td>3624</td>\n",
       "      <td>ham</td>\n",
       "      <td>Subject: neon retreat\\r\\nho ho ho , we ' re ar...</td>\n",
       "      <td>0</td>\n",
       "    </tr>\n",
       "    <tr>\n",
       "      <th>3</th>\n",
       "      <td>4685</td>\n",
       "      <td>spam</td>\n",
       "      <td>Subject: photoshop , windows , office . cheap ...</td>\n",
       "      <td>1</td>\n",
       "    </tr>\n",
       "    <tr>\n",
       "      <th>4</th>\n",
       "      <td>2030</td>\n",
       "      <td>ham</td>\n",
       "      <td>Subject: re : indian springs\\r\\nthis deal is t...</td>\n",
       "      <td>0</td>\n",
       "    </tr>\n",
       "  </tbody>\n",
       "</table>\n",
       "</div>"
      ],
      "text/plain": [
       "   Unnamed: 0 label                                               text  \\\n",
       "0         605   ham  Subject: enron methanol ; meter # : 988291\\r\\n...   \n",
       "1        2349   ham  Subject: hpl nom for january 9 , 2001\\r\\n( see...   \n",
       "2        3624   ham  Subject: neon retreat\\r\\nho ho ho , we ' re ar...   \n",
       "3        4685  spam  Subject: photoshop , windows , office . cheap ...   \n",
       "4        2030   ham  Subject: re : indian springs\\r\\nthis deal is t...   \n",
       "\n",
       "   label_num  \n",
       "0          0  \n",
       "1          0  \n",
       "2          0  \n",
       "3          1  \n",
       "4          0  "
      ]
     },
     "metadata": {},
     "output_type": "display_data"
    },
    {
     "data": {
      "text/plain": [
       "'Last 5 Rows :'"
      ]
     },
     "metadata": {},
     "output_type": "display_data"
    },
    {
     "data": {
      "text/html": [
       "<div>\n",
       "<style scoped>\n",
       "    .dataframe tbody tr th:only-of-type {\n",
       "        vertical-align: middle;\n",
       "    }\n",
       "\n",
       "    .dataframe tbody tr th {\n",
       "        vertical-align: top;\n",
       "    }\n",
       "\n",
       "    .dataframe thead th {\n",
       "        text-align: right;\n",
       "    }\n",
       "</style>\n",
       "<table border=\"1\" class=\"dataframe\">\n",
       "  <thead>\n",
       "    <tr style=\"text-align: right;\">\n",
       "      <th></th>\n",
       "      <th>Unnamed: 0</th>\n",
       "      <th>label</th>\n",
       "      <th>text</th>\n",
       "      <th>label_num</th>\n",
       "    </tr>\n",
       "  </thead>\n",
       "  <tbody>\n",
       "    <tr>\n",
       "      <th>5166</th>\n",
       "      <td>1518</td>\n",
       "      <td>ham</td>\n",
       "      <td>Subject: put the 10 on the ft\\r\\nthe transport...</td>\n",
       "      <td>0</td>\n",
       "    </tr>\n",
       "    <tr>\n",
       "      <th>5167</th>\n",
       "      <td>404</td>\n",
       "      <td>ham</td>\n",
       "      <td>Subject: 3 / 4 / 2000 and following noms\\r\\nhp...</td>\n",
       "      <td>0</td>\n",
       "    </tr>\n",
       "    <tr>\n",
       "      <th>5168</th>\n",
       "      <td>2933</td>\n",
       "      <td>ham</td>\n",
       "      <td>Subject: calpine daily gas nomination\\r\\n&gt;\\r\\n...</td>\n",
       "      <td>0</td>\n",
       "    </tr>\n",
       "    <tr>\n",
       "      <th>5169</th>\n",
       "      <td>1409</td>\n",
       "      <td>ham</td>\n",
       "      <td>Subject: industrial worksheets for august 2000...</td>\n",
       "      <td>0</td>\n",
       "    </tr>\n",
       "    <tr>\n",
       "      <th>5170</th>\n",
       "      <td>4807</td>\n",
       "      <td>spam</td>\n",
       "      <td>Subject: important online banking alert\\r\\ndea...</td>\n",
       "      <td>1</td>\n",
       "    </tr>\n",
       "  </tbody>\n",
       "</table>\n",
       "</div>"
      ],
      "text/plain": [
       "      Unnamed: 0 label                                               text  \\\n",
       "5166        1518   ham  Subject: put the 10 on the ft\\r\\nthe transport...   \n",
       "5167         404   ham  Subject: 3 / 4 / 2000 and following noms\\r\\nhp...   \n",
       "5168        2933   ham  Subject: calpine daily gas nomination\\r\\n>\\r\\n...   \n",
       "5169        1409   ham  Subject: industrial worksheets for august 2000...   \n",
       "5170        4807  spam  Subject: important online banking alert\\r\\ndea...   \n",
       "\n",
       "      label_num  \n",
       "5166          0  \n",
       "5167          0  \n",
       "5168          0  \n",
       "5169          0  \n",
       "5170          1  "
      ]
     },
     "metadata": {},
     "output_type": "display_data"
    }
   ],
   "source": [
    "display(\"Top 5 rows :\",data.head())\n",
    "display(\"Last 5 Rows :\",data.tail())"
   ]
  },
  {
   "cell_type": "markdown",
   "id": "246773a2",
   "metadata": {
    "papermill": {
     "duration": 0.023003,
     "end_time": "2021-11-03T17:21:12.736978",
     "exception": false,
     "start_time": "2021-11-03T17:21:12.713975",
     "status": "completed"
    },
    "tags": []
   },
   "source": [
    "# ****data Visualizations****"
   ]
  },
  {
   "cell_type": "code",
   "execution_count": 6,
   "id": "75ee4621",
   "metadata": {
    "execution": {
     "iopub.execute_input": "2021-11-03T17:21:12.786619Z",
     "iopub.status.busy": "2021-11-03T17:21:12.785910Z",
     "iopub.status.idle": "2021-11-03T17:21:13.126030Z",
     "shell.execute_reply": "2021-11-03T17:21:13.125461Z",
     "shell.execute_reply.started": "2021-11-03T17:11:06.585258Z"
    },
    "papermill": {
     "duration": 0.365925,
     "end_time": "2021-11-03T17:21:13.126205",
     "exception": false,
     "start_time": "2021-11-03T17:21:12.760280",
     "status": "completed"
    },
    "tags": []
   },
   "outputs": [
    {
     "data": {
      "image/png": "[encoded data removed]",
      "text/plain": [
       "<Figure size 432x288 with 1 Axes>"
      ]
     },
     "metadata": {
      "needs_background": "light"
     },
     "output_type": "display_data"
    }
   ],
   "source": [
    "Vis = data['label_num'].value_counts()\n",
    "Vis.plot(kind=\"bar\")\n",
    "plt.xticks(np.arange(2), ('Non spam', 'spam'),rotation=0)\n",
    "plt.show()"
   ]
  },
  {
   "cell_type": "code",
   "execution_count": 7,
   "id": "6ede9435",
   "metadata": {
    "execution": {
     "iopub.execute_input": "2021-11-03T17:21:13.177880Z",
     "iopub.status.busy": "2021-11-03T17:21:13.177232Z",
     "iopub.status.idle": "2021-11-03T17:21:13.185220Z",
     "shell.execute_reply": "2021-11-03T17:21:13.185735Z",
     "shell.execute_reply.started": "2021-11-03T17:12:24.358132Z"
    },
    "papermill": {
     "duration": 0.035353,
     "end_time": "2021-11-03T17:21:13.185911",
     "exception": false,
     "start_time": "2021-11-03T17:21:13.150558",
     "status": "completed"
    },
    "tags": []
   },
   "outputs": [],
   "source": [
    "# label spam mail as 0;  ham mail as 1;\n",
    "\n",
    "data.loc[data['label'] == 'spam', 'Category',] = 0\n",
    "data.loc[data['label'] == 'ham', 'Category',] = 1"
   ]
  },
  {
   "cell_type": "code",
   "execution_count": 8,
   "id": "1ef81f13",
   "metadata": {
    "execution": {
     "iopub.execute_input": "2021-11-03T17:21:13.239620Z",
     "iopub.status.busy": "2021-11-03T17:21:13.238951Z",
     "iopub.status.idle": "2021-11-03T17:21:13.241031Z",
     "shell.execute_reply": "2021-11-03T17:21:13.241585Z",
     "shell.execute_reply.started": "2021-11-03T17:13:14.818837Z"
    },
    "papermill": {
     "duration": 0.031846,
     "end_time": "2021-11-03T17:21:13.241749",
     "exception": false,
     "start_time": "2021-11-03T17:21:13.209903",
     "status": "completed"
    },
    "tags": []
   },
   "outputs": [],
   "source": [
    "# separating the data as texts and label\n",
    "\n",
    "X = data['text']\n",
    "\n",
    "Y = data['label']"
   ]
  },
  {
   "cell_type": "code",
   "execution_count": 9,
   "id": "7a338706",
   "metadata": {
    "execution": {
     "iopub.execute_input": "2021-11-03T17:21:13.295974Z",
     "iopub.status.busy": "2021-11-03T17:21:13.292731Z",
     "iopub.status.idle": "2021-11-03T17:21:13.299336Z",
     "shell.execute_reply": "2021-11-03T17:21:13.300018Z",
     "shell.execute_reply.started": "2021-11-03T17:13:29.278575Z"
    },
    "papermill": {
     "duration": 0.034707,
     "end_time": "2021-11-03T17:21:13.300275",
     "exception": false,
     "start_time": "2021-11-03T17:21:13.265568",
     "status": "completed"
    },
    "tags": []
   },
   "outputs": [
    {
     "name": "stdout",
     "output_type": "stream",
     "text": [
      "0       Subject: enron methanol ; meter # : 988291\\r\\n...\n",
      "1       Subject: hpl nom for january 9 , 2001\\r\\n( see...\n",
      "2       Subject: neon retreat\\r\\nho ho ho , we ' re ar...\n",
      "3       Subject: photoshop , windows , office . cheap ...\n",
      "4       Subject: re : indian springs\\r\\nthis deal is t...\n",
      "                              ...                        \n",
      "5166    Subject: put the 10 on the ft\\r\\nthe transport...\n",
      "5167    Subject: 3 / 4 / 2000 and following noms\\r\\nhp...\n",
      "5168    Subject: calpine daily gas nomination\\r\\n>\\r\\n...\n",
      "5169    Subject: industrial worksheets for august 2000...\n",
      "5170    Subject: important online banking alert\\r\\ndea...\n",
      "Name: text, Length: 5171, dtype: object\n"
     ]
    }
   ],
   "source": [
    "print(X)"
   ]
  },
  {
   "cell_type": "code",
   "execution_count": 10,
   "id": "ea3237e6",
   "metadata": {
    "execution": {
     "iopub.execute_input": "2021-11-03T17:21:13.353306Z",
     "iopub.status.busy": "2021-11-03T17:21:13.352306Z",
     "iopub.status.idle": "2021-11-03T17:21:13.359507Z",
     "shell.execute_reply": "2021-11-03T17:21:13.359998Z",
     "shell.execute_reply.started": "2021-11-03T17:13:39.920182Z"
    },
    "papermill": {
     "duration": 0.034977,
     "end_time": "2021-11-03T17:21:13.360199",
     "exception": false,
     "start_time": "2021-11-03T17:21:13.325222",
     "status": "completed"
    },
    "tags": []
   },
   "outputs": [
    {
     "name": "stdout",
     "output_type": "stream",
     "text": [
      "0        ham\n",
      "1        ham\n",
      "2        ham\n",
      "3       spam\n",
      "4        ham\n",
      "        ... \n",
      "5166     ham\n",
      "5167     ham\n",
      "5168     ham\n",
      "5169     ham\n",
      "5170    spam\n",
      "Name: label, Length: 5171, dtype: object\n"
     ]
    }
   ],
   "source": [
    "print(Y)"
   ]
  },
  {
   "cell_type": "markdown",
   "id": "9c930226",
   "metadata": {
    "papermill": {
     "duration": 0.024636,
     "end_time": "2021-11-03T17:21:13.409883",
     "exception": false,
     "start_time": "2021-11-03T17:21:13.385247",
     "status": "completed"
    },
    "tags": []
   },
   "source": [
    "# ****Splitting the data into training data & test data****"
   ]
  },
  {
   "cell_type": "code",
   "execution_count": 11,
   "id": "9efe7485",
   "metadata": {
    "execution": {
     "iopub.execute_input": "2021-11-03T17:21:13.462172Z",
     "iopub.status.busy": "2021-11-03T17:21:13.461480Z",
     "iopub.status.idle": "2021-11-03T17:21:13.468743Z",
     "shell.execute_reply": "2021-11-03T17:21:13.469250Z",
     "shell.execute_reply.started": "2021-11-03T17:14:34.734075Z"
    },
    "papermill": {
     "duration": 0.03497,
     "end_time": "2021-11-03T17:21:13.469427",
     "exception": false,
     "start_time": "2021-11-03T17:21:13.434457",
     "status": "completed"
    },
    "tags": []
   },
   "outputs": [],
   "source": [
    "X_train, X_test, Y_train, Y_test = train_test_split(X, Y, test_size=0.2, random_state=3)"
   ]
  },
  {
   "cell_type": "code",
   "execution_count": 12,
   "id": "10567ac2",
   "metadata": {
    "execution": {
     "iopub.execute_input": "2021-11-03T17:21:13.523154Z",
     "iopub.status.busy": "2021-11-03T17:21:13.522469Z",
     "iopub.status.idle": "2021-11-03T17:21:13.527538Z",
     "shell.execute_reply": "2021-11-03T17:21:13.527986Z",
     "shell.execute_reply.started": "2021-11-03T17:14:41.887486Z"
    },
    "papermill": {
     "duration": 0.033529,
     "end_time": "2021-11-03T17:21:13.528205",
     "exception": false,
     "start_time": "2021-11-03T17:21:13.494676",
     "status": "completed"
    },
    "tags": []
   },
   "outputs": [
    {
     "name": "stdout",
     "output_type": "stream",
     "text": [
      "(5171,)\n",
      "(4136,)\n",
      "(1035,)\n"
     ]
    }
   ],
   "source": [
    "print(X.shape)\n",
    "print(X_train.shape)\n",
    "print(X_test.shape)"
   ]
  },
  {
   "cell_type": "markdown",
   "id": "4a8dd14b",
   "metadata": {
    "papermill": {
     "duration": 0.025301,
     "end_time": "2021-11-03T17:21:13.578565",
     "exception": false,
     "start_time": "2021-11-03T17:21:13.553264",
     "status": "completed"
    },
    "tags": []
   },
   "source": [
    "# ****Feature Extraction****"
   ]
  },
  {
   "cell_type": "code",
   "execution_count": 13,
   "id": "fa2d7172",
   "metadata": {
    "execution": {
     "iopub.execute_input": "2021-11-03T17:21:13.631311Z",
     "iopub.status.busy": "2021-11-03T17:21:13.630683Z",
     "iopub.status.idle": "2021-11-03T17:21:14.709576Z",
     "shell.execute_reply": "2021-11-03T17:21:14.710121Z",
     "shell.execute_reply.started": "2021-11-03T17:15:52.398207Z"
    },
    "papermill": {
     "duration": 1.106963,
     "end_time": "2021-11-03T17:21:14.710301",
     "exception": false,
     "start_time": "2021-11-03T17:21:13.603338",
     "status": "completed"
    },
    "tags": []
   },
   "outputs": [],
   "source": [
    "# transform the text data to feature vectors that can be used as input to the Logistic regression\n",
    "\n",
    "feature_extraction = TfidfVectorizer(min_df = 1, stop_words='english', lowercase='True')\n",
    "\n",
    "X_train_transformed = feature_extraction.fit_transform(X_train)\n",
    "X_test_transformed = feature_extraction.transform(X_test)\n",
    "\n"
   ]
  },
  {
   "cell_type": "code",
   "execution_count": 14,
   "id": "4466a7c0",
   "metadata": {
    "execution": {
     "iopub.execute_input": "2021-11-03T17:21:14.767220Z",
     "iopub.status.busy": "2021-11-03T17:21:14.766551Z",
     "iopub.status.idle": "2021-11-03T17:21:14.769196Z",
     "shell.execute_reply": "2021-11-03T17:21:14.769677Z",
     "shell.execute_reply.started": "2021-11-03T17:16:05.613947Z"
    },
    "papermill": {
     "duration": 0.034062,
     "end_time": "2021-11-03T17:21:14.769844",
     "exception": false,
     "start_time": "2021-11-03T17:21:14.735782",
     "status": "completed"
    },
    "tags": []
   },
   "outputs": [
    {
     "name": "stdout",
     "output_type": "stream",
     "text": [
      "2209    Subject: hplc to wellhead\\r\\ndaren here is the...\n",
      "2000    Subject: mobil chemical - hpl meter # 1256 - e...\n",
      "5030    Subject: revised nom 5 / 5 - eastrans ; revise...\n",
      "1376    Subject: re : exxon company , usa global # 960...\n",
      "1564    Subject: your pharmacy nx\\r\\nwant a cheap pain...\n",
      "                              ...                        \n",
      "789     Subject: incr ' ease yo ' ur man ' hood by 4 -...\n",
      "968     Subject: subscribers receive first notice on r...\n",
      "1667    Subject: neon for march 28\\r\\nhere is the neon...\n",
      "3321    Subject: re : first delivery - pure resources ...\n",
      "1688    Subject: enhance your chest size\\r\\nemail is l...\n",
      "Name: text, Length: 4136, dtype: object\n"
     ]
    }
   ],
   "source": [
    "print(X_train)"
   ]
  },
  {
   "cell_type": "code",
   "execution_count": 15,
   "id": "0f3060d4",
   "metadata": {
    "execution": {
     "iopub.execute_input": "2021-11-03T17:21:14.825442Z",
     "iopub.status.busy": "2021-11-03T17:21:14.824754Z",
     "iopub.status.idle": "2021-11-03T17:21:14.832828Z",
     "shell.execute_reply": "2021-11-03T17:21:14.833358Z",
     "shell.execute_reply.started": "2021-11-03T17:16:20.395822Z"
    },
    "papermill": {
     "duration": 0.038345,
     "end_time": "2021-11-03T17:21:14.833539",
     "exception": false,
     "start_time": "2021-11-03T17:21:14.795194",
     "status": "completed"
    },
    "tags": []
   },
   "outputs": [
    {
     "name": "stdout",
     "output_type": "stream",
     "text": [
      "  (0, 3871)\t0.13387711316973605\n",
      "  (0, 531)\t0.14556222812251965\n",
      "  (0, 30451)\t0.08468916670398006\n",
      "  (0, 43273)\t0.14556222812251965\n",
      "  (0, 3890)\t0.14556222812251965\n",
      "  (0, 548)\t0.14556222812251965\n",
      "  (0, 37262)\t0.11275796314501375\n",
      "  (0, 2908)\t0.11535664415295803\n",
      "  (0, 456)\t0.14556222812251965\n",
      "  (0, 26297)\t0.09506000151609588\n",
      "  (0, 36190)\t0.11400727959297849\n",
      "  (0, 2478)\t0.13872687405852518\n",
      "  (0, 521)\t0.14556222812251965\n",
      "  (0, 16808)\t0.11843023142166303\n",
      "  (0, 22041)\t0.13387711316973605\n",
      "  (0, 2706)\t0.14556222812251965\n",
      "  (0, 522)\t0.14556222812251965\n",
      "  (0, 32060)\t0.07311834410351342\n",
      "  (0, 19411)\t0.04211028825505044\n",
      "  (0, 2537)\t0.13872687405852518\n",
      "  (0, 517)\t0.14556222812251965\n",
      "  (0, 19429)\t0.14556222812251965\n",
      "  (0, 16637)\t0.24438399643390496\n",
      "  (0, 3875)\t0.14556222812251965\n",
      "  (0, 836)\t0.14556222812251965\n",
      "  :\t:\n",
      "  (4135, 8873)\t0.07154271542163933\n",
      "  (4135, 16161)\t0.07327358549803296\n",
      "  (4135, 26936)\t0.07154271542163933\n",
      "  (4135, 15691)\t0.07812310961344454\n",
      "  (4135, 14167)\t0.07812310961344454\n",
      "  (4135, 11832)\t0.07539199926380867\n",
      "  (4135, 4961)\t0.07539199926380867\n",
      "  (4135, 7395)\t0.07154271542163933\n",
      "  (4135, 10238)\t0.06669319130622776\n",
      "  (4135, 29033)\t0.057994383348646844\n",
      "  (4135, 22458)\t0.05353240292261735\n",
      "  (4135, 14390)\t0.05726375354549545\n",
      "  (4135, 16537)\t0.07154271542163933\n",
      "  (4135, 42960)\t0.06496232122983413\n",
      "  (4135, 16217)\t0.06769343157946998\n",
      "  (4135, 26408)\t0.046488819206390516\n",
      "  (4135, 14282)\t0.06669319130622776\n",
      "  (4135, 27714)\t0.031300464660012135\n",
      "  (4135, 16475)\t0.03146157037949769\n",
      "  (4135, 38725)\t0.04124090788006661\n",
      "  (4135, 43426)\t0.05920796972538574\n",
      "  (4135, 20748)\t0.05068335935369024\n",
      "  (4135, 14513)\t0.056585357723181545\n",
      "  (4135, 36190)\t0.06420243561903816\n",
      "  (4135, 38946)\t0.009493502067611905\n"
     ]
    }
   ],
   "source": [
    "print(X_train_transformed)"
   ]
  },
  {
   "cell_type": "markdown",
   "id": "56ce55da",
   "metadata": {
    "papermill": {
     "duration": 0.025189,
     "end_time": "2021-11-03T17:21:14.884179",
     "exception": false,
     "start_time": "2021-11-03T17:21:14.858990",
     "status": "completed"
    },
    "tags": []
   },
   "source": [
    "# ****Logistic Regression****"
   ]
  },
  {
   "cell_type": "code",
   "execution_count": 16,
   "id": "29e67429",
   "metadata": {
    "execution": {
     "iopub.execute_input": "2021-11-03T17:21:14.940816Z",
     "iopub.status.busy": "2021-11-03T17:21:14.940042Z",
     "iopub.status.idle": "2021-11-03T17:21:14.942863Z",
     "shell.execute_reply": "2021-11-03T17:21:14.942354Z",
     "shell.execute_reply.started": "2021-11-03T17:17:06.928904Z"
    },
    "papermill": {
     "duration": 0.033014,
     "end_time": "2021-11-03T17:21:14.943006",
     "exception": false,
     "start_time": "2021-11-03T17:21:14.909992",
     "status": "completed"
    },
    "tags": []
   },
   "outputs": [],
   "source": [
    "model = LogisticRegression()"
   ]
  },
  {
   "cell_type": "code",
   "execution_count": 17,
   "id": "998bacbe",
   "metadata": {
    "execution": {
     "iopub.execute_input": "2021-11-03T17:21:14.997494Z",
     "iopub.status.busy": "2021-11-03T17:21:14.996850Z",
     "iopub.status.idle": "2021-11-03T17:21:15.468316Z",
     "shell.execute_reply": "2021-11-03T17:21:15.469241Z",
     "shell.execute_reply.started": "2021-11-03T17:17:15.031295Z"
    },
    "papermill": {
     "duration": 0.5007,
     "end_time": "2021-11-03T17:21:15.469516",
     "exception": false,
     "start_time": "2021-11-03T17:21:14.968816",
     "status": "completed"
    },
    "tags": []
   },
   "outputs": [
    {
     "data": {
      "text/plain": [
       "LogisticRegression()"
      ]
     },
     "execution_count": 17,
     "metadata": {},
     "output_type": "execute_result"
    }
   ],
   "source": [
    "# training the Logistic Regression model with the training data\n",
    "model.fit(X_train_transformed, Y_train)"
   ]
  },
  {
   "cell_type": "code",
   "execution_count": 18,
   "id": "0c464159",
   "metadata": {
    "execution": {
     "iopub.execute_input": "2021-11-03T17:21:15.576778Z",
     "iopub.status.busy": "2021-11-03T17:21:15.576006Z",
     "iopub.status.idle": "2021-11-03T17:21:15.591592Z",
     "shell.execute_reply": "2021-11-03T17:21:15.592121Z",
     "shell.execute_reply.started": "2021-11-03T17:17:35.517789Z"
    },
    "papermill": {
     "duration": 0.075325,
     "end_time": "2021-11-03T17:21:15.592300",
     "exception": false,
     "start_time": "2021-11-03T17:21:15.516975",
     "status": "completed"
    },
    "tags": []
   },
   "outputs": [],
   "source": [
    "# prediction on training data\n",
    "\n",
    "prediction_on_training_data = model.predict(X_train_transformed)\n",
    "accuracy_on_training_data = accuracy_score(Y_train, prediction_on_training_data)"
   ]
  },
  {
   "cell_type": "code",
   "execution_count": 19,
   "id": "a4bf83c6",
   "metadata": {
    "execution": {
     "iopub.execute_input": "2021-11-03T17:21:15.647201Z",
     "iopub.status.busy": "2021-11-03T17:21:15.646586Z",
     "iopub.status.idle": "2021-11-03T17:21:15.651588Z",
     "shell.execute_reply": "2021-11-03T17:21:15.650948Z",
     "shell.execute_reply.started": "2021-11-03T17:18:05.969328Z"
    },
    "papermill": {
     "duration": 0.033382,
     "end_time": "2021-11-03T17:21:15.651725",
     "exception": false,
     "start_time": "2021-11-03T17:21:15.618343",
     "status": "completed"
    },
    "tags": []
   },
   "outputs": [
    {
     "name": "stdout",
     "output_type": "stream",
     "text": [
      "Accuracy on training data :  99.70986460348162\n"
     ]
    }
   ],
   "source": [
    "print('Accuracy on training data : ', accuracy_on_training_data *100)"
   ]
  },
  {
   "cell_type": "code",
   "execution_count": 20,
   "id": "3f32b511",
   "metadata": {
    "execution": {
     "iopub.execute_input": "2021-11-03T17:21:15.707416Z",
     "iopub.status.busy": "2021-11-03T17:21:15.706789Z",
     "iopub.status.idle": "2021-11-03T17:21:15.714307Z",
     "shell.execute_reply": "2021-11-03T17:21:15.714826Z",
     "shell.execute_reply.started": "2021-11-03T17:18:15.023574Z"
    },
    "papermill": {
     "duration": 0.036932,
     "end_time": "2021-11-03T17:21:15.714995",
     "exception": false,
     "start_time": "2021-11-03T17:21:15.678063",
     "status": "completed"
    },
    "tags": []
   },
   "outputs": [],
   "source": [
    "# prediction on test data\n",
    "\n",
    "prediction_on_test_data = model.predict(X_test_transformed)\n",
    "accuracy_on_test_data = accuracy_score(Y_test, prediction_on_test_data)"
   ]
  },
  {
   "cell_type": "code",
   "execution_count": 21,
   "id": "ac15104d",
   "metadata": {
    "execution": {
     "iopub.execute_input": "2021-11-03T17:21:15.770336Z",
     "iopub.status.busy": "2021-11-03T17:21:15.769726Z",
     "iopub.status.idle": "2021-11-03T17:21:15.775136Z",
     "shell.execute_reply": "2021-11-03T17:21:15.775776Z",
     "shell.execute_reply.started": "2021-11-03T17:18:32.365882Z"
    },
    "papermill": {
     "duration": 0.034772,
     "end_time": "2021-11-03T17:21:15.775997",
     "exception": false,
     "start_time": "2021-11-03T17:21:15.741225",
     "status": "completed"
    },
    "tags": []
   },
   "outputs": [
    {
     "name": "stdout",
     "output_type": "stream",
     "text": [
      "Accuracy on test data :  98.06763285024155\n"
     ]
    }
   ],
   "source": [
    "print('Accuracy on test data : ', accuracy_on_test_data*100)"
   ]
  }
 ],
 "metadata": {
  "kernelspec": {
   "display_name": "Python 3",
   "language": "python",
   "name": "python3"
  },
  "language_info": {
   "codemirror_mode": {
    "name": "ipython",
    "version": 3
   },
   "file_extension": ".py",
   "mimetype": "text/x-python",
   "name": "python",
   "nbconvert_exporter": "python",
   "pygments_lexer": "ipython3",
   "version": "3.7.10"
  },
  "papermill": {
   "default_parameters": {},
   "duration": 14.830384,
   "end_time": "2021-11-03T17:21:16.412754",
   "environment_variables": {},
   "exception": null,
   "input_path": "__notebook__.ipynb",
   "output_path": "__notebook__.ipynb",
   "parameters": {},
   "start_time": "2021-11-03T17:21:01.582370",
   "version": "2.3.3"
  }
 },
 "nbformat": 4,
 "nbformat_minor": 5
}
